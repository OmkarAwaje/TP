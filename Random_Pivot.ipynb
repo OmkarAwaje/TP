{
 "cells": [
  {
   "cell_type": "code",
   "execution_count": 7,
   "id": "10c7a756",
   "metadata": {},
   "outputs": [
    {
     "name": "stdout",
     "output_type": "stream",
     "text": [
      "Original array: [12, 11, 13, 5, 6, 7]\n",
      "Sorted array: [5, 6, 7, 11, 12, 13]\n"
     ]
    }
   ],
   "source": [
    "import random\n",
    "\n",
    "def partition(arr, low, high):\n",
    "    pivot_index = random.randint(low, high)  # Choose a random pivot index\n",
    "    arr[pivot_index], arr[high] = arr[high], arr[pivot_index]  # Swap pivot with the last element\n",
    "    pivot = arr[high]  # Choose the last element as the pivot\n",
    "    i = low - 1  # Index of smaller element\n",
    "\n",
    "    for j in range(low, high):\n",
    "        if arr[j] < pivot:\n",
    "            i += 1\n",
    "            arr[i], arr[j] = arr[j], arr[i]\n",
    "\n",
    "    arr[i + 1], arr[high] = arr[high], arr[i + 1]\n",
    "    return i + 1\n",
    "\n",
    "def quick_sort(arr, low, high):\n",
    "    if low < high:\n",
    "        # Partition the array and get the pivot index\n",
    "        pi = partition(arr, low, high)\n",
    "\n",
    "        # Recursively sort the subarrays before and after the pivot\n",
    "        quick_sort(arr, low, pi - 1)\n",
    "        quick_sort(arr, pi + 1, high)\n",
    "\n",
    "# Example usage:\n",
    "arr = [12, 11, 13, 5, 6, 7]\n",
    "n = len(arr)\n",
    "\n",
    "print(\"Original array:\", arr)\n",
    "quick_sort(arr, 0, n - 1)\n",
    "print(\"Sorted array:\", arr)\n"
   ]
  },
  {
   "cell_type": "code",
   "execution_count": 2,
   "id": "0952ba7b",
   "metadata": {},
   "outputs": [
    {
     "name": "stdout",
     "output_type": "stream",
     "text": [
      "Original array: [12, 11, 13, 5, 6, 7]\n",
      "Sorted array: [5, 6, 7, 11, 12, 13]\n"
     ]
    }
   ],
   "source": [
    "def partition(arr, low, high):\n",
    "    pivot = arr[high]  # Choose the last element as the pivot\n",
    "    i = low - 1  # Index of smaller element\n",
    "\n",
    "    for j in range(low, high):\n",
    "        if arr[j] < pivot:\n",
    "            i += 1\n",
    "            arr[i], arr[j] = arr[j], arr[i]\n",
    "\n",
    "    arr[i + 1], arr[high] = arr[high], arr[i + 1]\n",
    "    return i + 1\n",
    "\n",
    "\n",
    "def quick_sort(arr, low, high):\n",
    "    if low < high:\n",
    "        # Partition the array and get the pivot index\n",
    "        pi = partition(arr, low, high)\n",
    "\n",
    "        # Recursively sort the subarrays before and after the pivot\n",
    "        quick_sort(arr, low, pi - 1)\n",
    "        quick_sort(arr, pi + 1, high)\n",
    "\n",
    "\n",
    "# Example usage:\n",
    "arr = [12, 11, 13, 5, 6, 7]\n",
    "n = len(arr)\n",
    "\n",
    "print(\"Original array:\", arr)\n",
    "quick_sort(arr, 0, n - 1)\n",
    "print(\"Sorted array:\", arr)\n"
   ]
  },
  {
   "cell_type": "code",
   "execution_count": 10,
   "id": "7e31f8ba",
   "metadata": {},
   "outputs": [
    {
     "name": "stdout",
     "output_type": "stream",
     "text": [
      "Original array: [1, 2, 3, 5, 6, 7]\n"
     ]
    }
   ],
   "source": [
    "import random\n",
    "\n",
    "def partition(arr, low, high):\n",
    "    pivot = arr[high]  # Choose the last element as the pivot\n",
    "    i = low - 1  # Index of smaller element\n",
    "\n",
    "    for j in range(low, high):\n",
    "        if arr[j] < pivot:\n",
    "            i += 1\n",
    "            arr[i], arr[j] = arr[j], arr[i]\n",
    "\n",
    "    arr[i + 1], arr[high] = arr[high], arr[i + 1]\n",
    "    return i + 1\n",
    "\n",
    "\n",
    "def rpartition(arr, low, high):\n",
    "    pivot_index = random.randint(low, high)\n",
    "    arr[pivot_index], arr[high] = arr[high], arr[pivot_index]\n",
    "    return partition(arr,)\n",
    "\n",
    "def quicksort(arr, low, high):\n",
    "    if low < high:\n",
    "        pi = partition(arr, low, high)\n",
    "        quicksort(arr, low, pi - 1)\n",
    "        quicksort(arr, pi + 1, high)\n",
    "\n",
    "# Example usage:\n",
    "arr = [2,6,7,3,1,5]\n",
    "n = len(arr)\n",
    "quicksort(arr, 0, n - 1)\n",
    "\n",
    "print(\"Original array:\", arr)\n"
   ]
  },
  {
   "cell_type": "code",
   "execution_count": 4,
   "id": "0565ad3a",
   "metadata": {},
   "outputs": [],
   "source": [
    "import sklearn"
   ]
  },
  {
   "cell_type": "code",
   "execution_count": 6,
   "id": "8ac23638",
   "metadata": {},
   "outputs": [
    {
     "ename": "AttributeError",
     "evalue": "module 'sklearn' has no attribute 'model_selection'",
     "output_type": "error",
     "traceback": [
      "\u001b[1;31m---------------------------------------------------------------------------\u001b[0m",
      "\u001b[1;31mAttributeError\u001b[0m                            Traceback (most recent call last)",
      "Input \u001b[1;32mIn [6]\u001b[0m, in \u001b[0;36m<cell line: 1>\u001b[1;34m()\u001b[0m\n\u001b[1;32m----> 1\u001b[0m \u001b[38;5;28mdir\u001b[39m(\u001b[43msklearn\u001b[49m\u001b[38;5;241;43m.\u001b[39;49m\u001b[43mmodel_selection\u001b[49m)\n",
      "\u001b[1;31mAttributeError\u001b[0m: module 'sklearn' has no attribute 'model_selection'"
     ]
    }
   ],
   "source": [
    "dir(sklearn.model_selection)"
   ]
  },
  {
   "cell_type": "code",
   "execution_count": 14,
   "id": "7aa6507f",
   "metadata": {},
   "outputs": [
    {
     "name": "stdout",
     "output_type": "stream",
     "text": [
      "[1, 2, 3, 5, 6, 7]\n"
     ]
    }
   ],
   "source": [
    "import random\n",
    "\n",
    "def partition(arr,low,high):\n",
    "    pivot_index=random.randint(low,high)\n",
    "    arr[pivot_index],arr[high]=arr[high],arr[pivot_index]\n",
    "    pivot=arr[high]\n",
    "    i=low-1\n",
    "    for j in range(low,high):\n",
    "        if(arr[j]<=pivot):\n",
    "            i+=1\n",
    "            arr[i],arr[j]=arr[j],arr[i]\n",
    "    arr[i+1],arr[high]=arr[high],arr[i+1]\n",
    "    return i+1\n",
    "def quicksort(arr,low,high):\n",
    "    if(low<high):\n",
    "        pi=partition(arr,low,high)\n",
    "        quicksort(arr,low,pi-1)\n",
    "        quicksort(arr,pi+1,high)\n",
    "a=[2,6,7,3,1,5]\n",
    "n=len(a)\n",
    "quicksort(a,0,n-1)\n",
    "print(a)"
   ]
  },
  {
   "cell_type": "code",
   "execution_count": null,
   "id": "24954e06",
   "metadata": {},
   "outputs": [],
   "source": []
  }
 ],
 "metadata": {
  "kernelspec": {
   "display_name": "Python 3 (ipykernel)",
   "language": "python",
   "name": "python3"
  },
  "language_info": {
   "codemirror_mode": {
    "name": "ipython",
    "version": 3
   },
   "file_extension": ".py",
   "mimetype": "text/x-python",
   "name": "python",
   "nbconvert_exporter": "python",
   "pygments_lexer": "ipython3",
   "version": "3.9.12"
  }
 },
 "nbformat": 4,
 "nbformat_minor": 5
}
